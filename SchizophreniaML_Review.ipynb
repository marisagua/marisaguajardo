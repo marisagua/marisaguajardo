{
  "nbformat": 4,
  "nbformat_minor": 0,
  "metadata": {
    "colab": {
      "provenance": [],
      "authorship_tag": "ABX9TyMuog1nQx4//7QRBcF84H3l",
      "include_colab_link": true
    },
    "kernelspec": {
      "name": "python3",
      "display_name": "Python 3"
    },
    "language_info": {
      "name": "python"
    }
  },
  "cells": [
    {
      "cell_type": "markdown",
      "metadata": {
        "id": "view-in-github",
        "colab_type": "text"
      },
      "source": [
        "<a href=\"https://colab.research.google.com/github/marisagua/marisaguajardo/blob/main/SchizophreniaML_Review.ipynb\" target=\"_parent\"><img src=\"https://colab.research.google.com/assets/colab-badge.svg\" alt=\"Open In Colab\"/></a>"
      ]
    },
    {
      "cell_type": "markdown",
      "source": [
        "# Machine Learning - Prediction of Schizophrenia Indicators\n",
        "- This notebook entails a practice project using machine learning skills to review concepts from DS 3001\n",
        "- Dataset sourced from: https://www.kaggle.com/datasets/asinow/schizohealth-dataset?resource=download"
      ],
      "metadata": {
        "id": "q_J5DgkTmBfo"
      }
    },
    {
      "cell_type": "code",
      "execution_count": 6,
      "metadata": {
        "id": "Z7jP_0CTl0Xa"
      },
      "outputs": [],
      "source": [
        "# Data Cleaning and Wrangling\n",
        "# importing packages and dataset\n",
        "import pandas as pd\n",
        "import numpy as np\n",
        "import matplotlib.pyplot as plt\n",
        "import seaborn as sns\n",
        "\n",
        "df = pd.read_csv('schizophrenia_dataset.csv') # can also inlcude\n",
        "# Can also read in site urls\n",
        "# url = '.csv\""
      ]
    },
    {
      "cell_type": "code",
      "source": [
        "# Getting started with data\n",
        "print(df.shape) # lists the dimensions: rows and columns\n",
        "print(df.dtypes) # the types of variables\n",
        "print(df.columns) # column names"
      ],
      "metadata": {
        "colab": {
          "base_uri": "https://localhost:8080/"
        },
        "id": "Rgc22yAMnfAI",
        "outputId": "b1ea421c-e1ba-4be2-f110-9ac14524b7be"
      },
      "execution_count": 7,
      "outputs": [
        {
          "output_type": "stream",
          "name": "stdout",
          "text": [
            "(10000, 20)\n",
            "Hasta_ID                   int64\n",
            "Yaş                        int64\n",
            "Cinsiyet                   int64\n",
            "Eğitim_Seviyesi            int64\n",
            "Medeni_Durum               int64\n",
            "Meslek                     int64\n",
            "Gelir_Düzeyi               int64\n",
            "Yaşadığı_Yer               int64\n",
            "Tanı                       int64\n",
            "Hastalık_Süresi            int64\n",
            "Hastaneye_Yatış_Sayısı     int64\n",
            "Ailede_Şizofreni_Öyküsü    int64\n",
            "Madde_Kullanımı            int64\n",
            "İntihar_Girişimi           int64\n",
            "Pozitif_Semptom_Skoru      int64\n",
            "Negatif_Semptom_Skoru      int64\n",
            "GAF_Skoru                  int64\n",
            "Sosyal_Destek              int64\n",
            "Stres_Faktörleri           int64\n",
            "İlaç_Uyumu                 int64\n",
            "dtype: object\n",
            "Index(['Hasta_ID', 'Yaş', 'Cinsiyet', 'Eğitim_Seviyesi', 'Medeni_Durum',\n",
            "       'Meslek', 'Gelir_Düzeyi', 'Yaşadığı_Yer', 'Tanı', 'Hastalık_Süresi',\n",
            "       'Hastaneye_Yatış_Sayısı', 'Ailede_Şizofreni_Öyküsü', 'Madde_Kullanımı',\n",
            "       'İntihar_Girişimi', 'Pozitif_Semptom_Skoru', 'Negatif_Semptom_Skoru',\n",
            "       'GAF_Skoru', 'Sosyal_Destek', 'Stres_Faktörleri', 'İlaç_Uyumu'],\n",
            "      dtype='object')\n"
          ]
        }
      ]
    },
    {
      "cell_type": "markdown",
      "source": [
        "These variables are not in english - converting them as part of wrangling according to order listed on kaggle"
      ],
      "metadata": {
        "id": "9cClqpFMouQr"
      }
    },
    {
      "cell_type": "code",
      "source": [
        "# Converting variable names to english\n",
        "df.rename(columns={'Hasta_ID': 'Patient_ID',\n",
        "                   'Yaş': 'age',\n",
        "                   'Cinsiyet': 'gender',\n",
        "                   'Eğitim_Seviyesi': 'education_level',\n",
        "                   'Medeni_Durum': 'marital_status',\n",
        "                   'Meslek': 'occupation',\n",
        "                   'Gelir_Düzeyi': 'income_level',\n",
        "                   'Yaşadığı_Yer':'living_area',\n",
        "                   'Tanı':'diagnosis',\n",
        "                   'Hastalık_Süresi':'disease_duration',\n",
        "                   'Hastaneye_Yatış_Sayısı':'hospitalizations',\n",
        "                   'Ailede_Şizofreni_Öyküsü':'family_history',\n",
        "                   'Madde_Kullanımı':'substance_use',\n",
        "                   'İntihar_Girişimi': 'suicide_attempt',\n",
        "                   'Pozitif_Semptom_Skoru': 'positive_symptom_score',\n",
        "                   'Negatif_Semptom_Skoru':'negative_symptom_score',\n",
        "                   'GAF_Skoru':'GAF_score',\n",
        "                   'Sosyal_Destek':'social_support',\n",
        "                   'Stres_Faktörleri':'stress_factors',\n",
        "                   'İlaç_Uyumu':'medication_adherence'}, inplace=True)"
      ],
      "metadata": {
        "id": "CiA82qc7o1wJ"
      },
      "execution_count": 8,
      "outputs": []
    },
    {
      "cell_type": "code",
      "source": [
        "print(df.shape)\n",
        "print(df.columns)\n",
        "print(df.head)\n",
        "print(df.loc)"
      ],
      "metadata": {
        "colab": {
          "base_uri": "https://localhost:8080/"
        },
        "id": "T_vLgO_YrGbI",
        "outputId": "8262db3f-60fb-4bd8-9822-75f90ce0f5e6"
      },
      "execution_count": 9,
      "outputs": [
        {
          "output_type": "stream",
          "name": "stdout",
          "text": [
            "(10000, 20)\n",
            "Index(['Patient_ID', 'age', 'gender', 'education_level', 'marital_status',\n",
            "       'occupation', 'income_level', 'living_area', 'diagnosis',\n",
            "       'disease_duration', 'hospitalizations', 'family_history',\n",
            "       'substance_use', 'suicide_attempt', 'positive_symptom_score',\n",
            "       'negative_symptom_score', 'GAF_score', 'social_support',\n",
            "       'stress_factors', 'medication_adherence'],\n",
            "      dtype='object')\n",
            "<bound method NDFrame.head of       Patient_ID  age  gender  education_level  marital_status  occupation  \\\n",
            "0              1   72       1                4               2           0   \n",
            "1              2   49       1                5               2           2   \n",
            "2              3   53       1                5               3           2   \n",
            "3              4   67       1                3               2           0   \n",
            "4              5   54       0                1               2           0   \n",
            "...          ...  ...     ...              ...             ...         ...   \n",
            "9995        9996   72       0                2               3           3   \n",
            "9996        9997   27       0                3               3           3   \n",
            "9997        9998   31       1                3               2           0   \n",
            "9998        9999   56       1                4               1           1   \n",
            "9999       10000   53       0                1               3           1   \n",
            "\n",
            "      income_level  living_area  diagnosis  disease_duration  \\\n",
            "0                2            1          0                 0   \n",
            "1                1            0          1                35   \n",
            "2                1            0          1                32   \n",
            "3                2            0          0                 0   \n",
            "4                2            1          0                 0   \n",
            "...            ...          ...        ...               ...   \n",
            "9995             0            1          1                18   \n",
            "9996             0            0          1                 6   \n",
            "9997             0            0          1                29   \n",
            "9998             2            1          0                 0   \n",
            "9999             0            1          0                 0   \n",
            "\n",
            "      hospitalizations  family_history  substance_use  suicide_attempt  \\\n",
            "0                    0               0              0                0   \n",
            "1                    1               1              1                1   \n",
            "2                    0               1              0                0   \n",
            "3                    0               0              1                0   \n",
            "4                    0               0              0                0   \n",
            "...                ...             ...            ...              ...   \n",
            "9995                 1               1              0                1   \n",
            "9996                 6               0              0                0   \n",
            "9997                 9               1              1                0   \n",
            "9998                 0               0              0                0   \n",
            "9999                 0               0              0                0   \n",
            "\n",
            "      positive_symptom_score  negative_symptom_score  GAF_score  \\\n",
            "0                         32                      48         72   \n",
            "1                         51                      63         40   \n",
            "2                         72                      85         51   \n",
            "3                         10                      21         74   \n",
            "4                          4                      27         98   \n",
            "...                      ...                     ...        ...   \n",
            "9995                      84                      74         54   \n",
            "9996                      99                      50         53   \n",
            "9997                      65                      65         60   \n",
            "9998                      38                      10         74   \n",
            "9999                      24                      21         87   \n",
            "\n",
            "      social_support  stress_factors  medication_adherence  \n",
            "0                  0               2                     2  \n",
            "1                  2               2                     0  \n",
            "2                  0               1                     1  \n",
            "3                  1               1                     2  \n",
            "4                  0               1                     0  \n",
            "...              ...             ...                   ...  \n",
            "9995               1               1                     1  \n",
            "9996               2               2                     0  \n",
            "9997               1               1                     1  \n",
            "9998               0               1                     2  \n",
            "9999               1               2                     0  \n",
            "\n",
            "[10000 rows x 20 columns]>\n"
          ]
        }
      ]
    }
  ]
}